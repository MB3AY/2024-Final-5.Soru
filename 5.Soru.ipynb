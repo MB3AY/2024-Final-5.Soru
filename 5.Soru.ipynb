{
  "metadata": {
    "kernelspec": {
      "name": "python",
      "display_name": "Python (Pyodide)",
      "language": "python"
    },
    "language_info": {
      "codemirror_mode": {
        "name": "python",
        "version": 3
      },
      "file_extension": ".py",
      "mimetype": "text/x-python",
      "name": "python",
      "nbconvert_exporter": "python",
      "pygments_lexer": "ipython3",
      "version": "3.8"
    }
  },
  "nbformat_minor": 4,
  "nbformat": 4,
  "cells": [
    {
      "cell_type": "code",
      "source": "import numpy as np\n\n# Histogram verilerini oluşturun\nhistogram_data = {\n    100: 12, 101: 18, 102: 32, 103: 48, 104: 52, 105: 65, 106: 55, 107: 42,\n    108: 32, 109: 16, 110: 10, 140: 5, 141: 18, 142: 25, 143: 32, 144: 40,\n    145: 65, 146: 43, 147: 32, 148: 20, 149: 10, 150: 4\n}\n\n# Yoğunluk ve piksel sayılarını ayır\nintensity_values = np.array(list(histogram_data.keys()))\npixel_counts = np.array(list(histogram_data.values()))\n",
      "metadata": {
        "trusted": true
      },
      "outputs": [],
      "execution_count": 1
    },
    {
      "cell_type": "code",
      "source": "# Toplam piksel sayısı\ntotal_pixels = np.sum(pixel_counts)\n\n# Yoğunluk değerlerinin toplamını hesaplayın\nsum_intensity = np.sum(intensity_values * pixel_counts)\n\n# Otsu eşikleme için değişkenleri başlat\ncurrent_min_variance = np.inf\noptimal_threshold = 0\n",
      "metadata": {
        "trusted": true
      },
      "outputs": [],
      "execution_count": 2
    },
    {
      "cell_type": "code",
      "source": "# Sınıf içi varyansı hesaplamak için döngü başlat\nfor t in range(1, len(intensity_values)):\n    # Background (G1)\n    weight_b = np.sum(pixel_counts[:t]) / total_pixels\n    mean_b = np.sum(intensity_values[:t] * pixel_counts[:t]) / np.sum(pixel_counts[:t]) if np.sum(pixel_counts[:t]) != 0 else 0\n    variance_b = np.sum(((intensity_values[:t] - mean_b) ** 2) * pixel_counts[:t]) / np.sum(pixel_counts[:t]) if np.sum(pixel_counts[:t]) != 0 else 0\n",
      "metadata": {
        "trusted": true
      },
      "outputs": [],
      "execution_count": 3
    },
    {
      "cell_type": "code",
      "source": "    # Foreground (G2)\n    weight_f = np.sum(pixel_counts[t:]) / total_pixels\n    mean_f = np.sum(intensity_values[t:] * pixel_counts[t:]) / np.sum(pixel_counts[t:]) if np.sum(pixel_counts[t:]) != 0 else 0\n    variance_f = np.sum(((intensity_values[t:] - mean_f) ** 2) * pixel_counts[t:]) / np.sum(pixel_counts[t:]) if np.sum(pixel_counts[t:]) != 0 else 0\n",
      "metadata": {
        "trusted": true
      },
      "outputs": [],
      "execution_count": 4
    },
    {
      "cell_type": "code",
      "source": "    # Sınıf içi varyansı hesapla\n    within_class_variance = weight_b * variance_b + weight_f * variance_f\n\n    # Minimum varyans ve optimal eşik değerini güncelle\n    if within_class_variance < current_min_variance:\n        current_min_variance = within_class_variance\n        optimal_threshold = intensity_values[t]\n\n# Optimum eşik değerini yazdır\nprint(f\"Optimum Eşik Değeri: {optimal_threshold}\")\n",
      "metadata": {
        "trusted": true
      },
      "outputs": [
        {
          "name": "stdout",
          "text": "Optimum Eşik Değeri: 150\n",
          "output_type": "stream"
        }
      ],
      "execution_count": 5
    }
  ]
}